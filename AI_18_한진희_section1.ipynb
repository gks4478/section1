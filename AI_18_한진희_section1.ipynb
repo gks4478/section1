{
  "nbformat": 4,
  "nbformat_minor": 0,
  "metadata": {
    "colab": {
      "provenance": [],
      "authorship_tag": "ABX9TyMHA0Y5gXjXuMJfLh9m2FAU",
      "include_colab_link": true
    },
    "kernelspec": {
      "name": "python3",
      "display_name": "Python 3"
    },
    "language_info": {
      "name": "python"
    }
  },
  "cells": [
    {
      "cell_type": "markdown",
      "metadata": {
        "id": "view-in-github",
        "colab_type": "text"
      },
      "source": [
        "<a href=\"https://colab.research.google.com/github/gks4478/section1/blob/main/AI_18_%ED%95%9C%EC%A7%84%ED%9D%AC_section1.ipynb\" target=\"_parent\"><img src=\"https://colab.research.google.com/assets/colab-badge.svg\" alt=\"Open In Colab\"/></a>"
      ]
    },
    {
      "cell_type": "markdown",
      "source": [
        "# Section1 project\n",
        "**주제 : 다음 분기에 어떤 게임을 설계해야 할까**\n",
        "파일 : https://ds-lecture-data.s3.ap-northeast-2.amazonaws.com/datasets/vgames2.csv\n",
        "\n",
        "> **[데이터 항목 내용]**\n",
        "\n",
        "*   Name : 게임 이름\n",
        "*   Platform : 게임이 지원되는 플랫폼 이름\n",
        "*   Year : 게임 출시 연도\n",
        "*   Genre : 게임 장르\n",
        "*   Publisher : 게임을 배급한 회사\n",
        "*   NA_Sales : 북미지역 출고량\n",
        "*   EU_Sales : 유럽지역 출고량\n",
        "*   항목 추가JP_Sales : 일본지역 출고량\n",
        "*   Other_Sales : 기타지역 출고량\n",
        "\n",
        "\n",
        "\n",
        "\n",
        "> **<순서>**\n",
        "\n",
        "1.   EDA : year\n",
        "2.   EDA : Genre\n",
        "3.   EDA : Sales\n",
        "4.   시각화 및 분석\n",
        "\n",
        "\n",
        "\n",
        "\n",
        "\n",
        "\n",
        "\n",
        "\n",
        "\n",
        "\n",
        "\n",
        "\n",
        "\n",
        "\n"
      ],
      "metadata": {
        "id": "pp4l3Lbu0zNQ"
      }
    },
    {
      "cell_type": "code",
      "source": [
        "# 파일 불러오기\n",
        "import pandas as pd\n",
        "df = pd.read_csv('vgames2.csv')"
      ],
      "metadata": {
        "id": "78Qkbd0O3ia8"
      },
      "execution_count": 29,
      "outputs": []
    },
    {
      "cell_type": "code",
      "source": [
        "# 데이터 프레임 앞에 불필요한 내용 삭제\n",
        "df = df.drop(df.iloc[:,[0]], axis = 1)"
      ],
      "metadata": {
        "id": "wiTjPISd3rgK"
      },
      "execution_count": 30,
      "outputs": []
    },
    {
      "cell_type": "markdown",
      "source": [
        "# 1. EDA : year"
      ],
      "metadata": {
        "id": "3HgjtLIw3a3w"
      }
    },
    {
      "cell_type": "markdown",
      "source": [
        "1-1) 4자리수가 아닌 year의 value 값을 바꾼다."
      ],
      "metadata": {
        "id": "J0TQRdDt35nY"
      }
    },
    {
      "cell_type": "code",
      "source": [
        "# 4자리가 아닌 year를 찾는다.\n",
        "# 값을 다르게 찾은 이유는 2000을 더할지 1900을 더할지 정해야 하기 때문이다.\n",
        "# 예) 두자리 수인 year의 value값이 80이면 2000을 더하면 안되기 때문이다.\n",
        "a = df.query('(Year > 0) and (Year <= 10)')['Year'].index\n",
        "b = df.query('(Year > 10) and (Year <= 20)')['Year'].index\n",
        "c = df.query('(Year > 80) and (Year <= 90)')['Year'].index\n",
        "d = df.query('(Year > 90) and (Year <= 100)')['Year'].index\n",
        "e = df.query('(Year == 0)')['Year'].index\n",
        "df.Year.loc[a] = df.Year.loc[a] + 2000\n",
        "df.Year.loc[b] = df.Year.loc[b] + 2000\n",
        "df.Year.loc[c] = df.Year.loc[c] + 1900\n",
        "df.Year.loc[d] = df.Year.loc[d] + 1900\n",
        "df.Year.loc[e] = df.Year.loc[e] + 2000\n",
        "# Disney's Aladdin :3이여서 2000을 더할까 했지만 찾아보니 1993년도에 나온 게임이었다.\n",
        "df.Year.loc[8765] = 1993"
      ],
      "metadata": {
        "colab": {
          "base_uri": "https://localhost:8080/"
        },
        "id": "2gw-VvBG1agj",
        "outputId": "981dce1b-4208-46a8-93e9-ec058f0033ae"
      },
      "execution_count": 31,
      "outputs": [
        {
          "output_type": "stream",
          "name": "stderr",
          "text": [
            "<ipython-input-31-f7dcc3a03335>:9: SettingWithCopyWarning: \n",
            "A value is trying to be set on a copy of a slice from a DataFrame\n",
            "\n",
            "See the caveats in the documentation: https://pandas.pydata.org/pandas-docs/stable/user_guide/indexing.html#returning-a-view-versus-a-copy\n",
            "  df.Year.loc[a] = df.Year.loc[a] + 2000\n",
            "<ipython-input-31-f7dcc3a03335>:10: SettingWithCopyWarning: \n",
            "A value is trying to be set on a copy of a slice from a DataFrame\n",
            "\n",
            "See the caveats in the documentation: https://pandas.pydata.org/pandas-docs/stable/user_guide/indexing.html#returning-a-view-versus-a-copy\n",
            "  df.Year.loc[b] = df.Year.loc[b] + 2000\n",
            "<ipython-input-31-f7dcc3a03335>:11: SettingWithCopyWarning: \n",
            "A value is trying to be set on a copy of a slice from a DataFrame\n",
            "\n",
            "See the caveats in the documentation: https://pandas.pydata.org/pandas-docs/stable/user_guide/indexing.html#returning-a-view-versus-a-copy\n",
            "  df.Year.loc[c] = df.Year.loc[c] + 1900\n",
            "<ipython-input-31-f7dcc3a03335>:12: SettingWithCopyWarning: \n",
            "A value is trying to be set on a copy of a slice from a DataFrame\n",
            "\n",
            "See the caveats in the documentation: https://pandas.pydata.org/pandas-docs/stable/user_guide/indexing.html#returning-a-view-versus-a-copy\n",
            "  df.Year.loc[d] = df.Year.loc[d] + 1900\n",
            "<ipython-input-31-f7dcc3a03335>:13: SettingWithCopyWarning: \n",
            "A value is trying to be set on a copy of a slice from a DataFrame\n",
            "\n",
            "See the caveats in the documentation: https://pandas.pydata.org/pandas-docs/stable/user_guide/indexing.html#returning-a-view-versus-a-copy\n",
            "  df.Year.loc[e] = df.Year.loc[e] + 2000\n",
            "<ipython-input-31-f7dcc3a03335>:15: SettingWithCopyWarning: \n",
            "A value is trying to be set on a copy of a slice from a DataFrame\n",
            "\n",
            "See the caveats in the documentation: https://pandas.pydata.org/pandas-docs/stable/user_guide/indexing.html#returning-a-view-versus-a-copy\n",
            "  df.Year.loc[8765] = 1993\n"
          ]
        }
      ]
    },
    {
      "cell_type": "markdown",
      "source": [
        "1-2) 동일한 제목을 가진 게임들의 출시일은 같다고 가정하고 → 결측치를 채운다."
      ],
      "metadata": {
        "id": "vgKx4g9J4xPe"
      }
    },
    {
      "cell_type": "code",
      "source": [
        "# 제목별로 그룹화한 후 위의 값으로 결측치를 채운다.\n",
        "df['Year'] = df.groupby('Name')['Year'].transform(lambda x: x.fillna(x.mean()))"
      ],
      "metadata": {
        "id": "BVHnEYJA4vTZ"
      },
      "execution_count": 32,
      "outputs": []
    },
    {
      "cell_type": "markdown",
      "source": [
        "1-3) 동일한 제목들이 모두 결측치인 value 채우기(그냥 drop 시켜도 되지만 147개이기 때문에 찾아서 채워본다)"
      ],
      "metadata": {
        "id": "S23sVUVU5gZR"
      }
    },
    {
      "cell_type": "code",
      "source": [
        "# 직접 구글링해서 채워넣는다.\n",
        "df.loc[31,'Year'] = 2007.0; df.loc[109,'Year'] = 2009.0; df.loc[273,\"Year\"] = 2012.0; df.loc[430,\"Year\"] = 1997.0\n",
        "df.loc[818,\"Year\"] = 2001.0; df.loc[15805,\"Year\"] = 2009.0; df.loc[15897,\"Year\"] = 2004.0; df.loc[16053,\"Year\"] = 1982.0\n",
        "df.loc[16130,\"Year\"] = 2012.0; df.loc[16425,\"Year\"] = 2011.0; df.loc[1011,'Year'] = 2002.0; df.loc[1235,'Year'] = 2009.0\n",
        "df.loc[1301,'Year'] = 2013.0; df.loc[1509,'Year'] = 2010.0; df.loc[1523,'Year'] = 1996.0; df.loc[1534,'Year'] = 2009.0\n",
        "df.loc[1796,'Year'] = 2013.0; df.loc[1884,'Year'] = 2001.0; df.loc[2062,'Year'] = 2009.0; df.loc[2270,'Year'] = 2004.0\n",
        "df.loc[2527,'Year'] = 1980.0; df.loc[2545,'Year'] = 2006.0; df.loc[2824,'Year'] = 2001.0; df.loc[2934,'Year'] = 2006.0\n",
        "df.loc[2970,'Year'] = 2006.0; df.loc[3031,'Year'] = 1997.0; df.loc[3135,'Year'] = 2002.0; df.loc[3184,'Year'] = 2000.0\n",
        "df.loc[3187,'Year'] = 2007.0; df.loc[3238,'Year'] = 2006.0; df.loc[3533,'Year'] = 1998.0; df.loc[3562,'Year'] = 2005.0\n",
        "df.loc[3605,'Year'] = 2011.0; df.loc[3639,'Year'] = 2015.0; df.loc[3811,'Year'] = 2006.0; df.loc[3942,'Year'] = 1999.0\n",
        "df.loc[4181,'Year'] = 2007.0; df.loc[4196,'Year'] = 2011.0; df.loc[4230,'Year'] = 2006.0; df.loc[4308,'Year'] = 2011.0\n",
        "df.loc[4497,'Year'] = 2011.0; df.loc[4511,'Year'] = 2010.0; df.loc[4521,'Year'] = 1989.0; df.loc[4617,'Year'] = 1978.0\n",
        "df.loc[4714,'Year'] = 2009.0; df.loc[4865,'Year'] = 2012.0; df.loc[4911,'Year'] = 2011.0; df.loc[5055,'Year'] = 2005.0\n",
        "df.loc[5144,'Year'] = 2010.0; df.loc[5230,'Year'] = 1980.0; df.loc[5720,'Year'] = 1980.0; df.loc[5728,'Year'] = 2003.0\n",
        "df.loc[5994,'Year'] = 2005.0; df.loc[6152,'Year'] = 2008.0; df.loc[6209,'Year'] = 2006.0; df.loc[6257,'Year'] = 2005.0\n",
        "df.loc[6288,'Year'] = 1978.0; df.loc[6318,'Year'] = 2009.0; df.loc[6375,'Year'] = 2009.0; df.loc[6575,'Year'] = 1980.0\n",
        "df.loc[6623,'Year'] = 2005.0; df.loc[7686,'Year'] = 2005.0; df.loc[7713,'Year'] = 2009.0; df.loc[7774,'Year'] = 2009.0\n",
        "df.loc[7792,'Year'] = 2007.0; df.loc[7847,'Year'] = 2005.0; df.loc[8055,'Year'] = 2009.0;df.loc[8244,'Year'] = 2006.0\n",
        "df.loc[8350,'Year'] = 2002.0; df.loc[8422,'Year'] = 1999.0; df.loc[8470,'Year'] = 2011.0; df.loc[8525,'Year'] = 2011.0\n",
        "df.loc[8546,'Year'] = 2010.0; df.loc[8638,'Year'] = 2012.0; df.loc[8812,'Year'] = 2005.0; df.loc[8849,'Year'] = 2009.0\n",
        "df.loc[9016,'Year'] = 2008.0; df.loc[9082,'Year'] = 2010.0; df.loc[9184,'Year'] = 2009.0; df.loc[9640,'Year'] = 2003.0\n",
        "df.loc[9684,'Year'] = 2008.0; df.loc[9920,'Year'] = 1978.0; df.loc[10084,'Year'] = 2008.0; df.loc[10092,'Year'] = 2000.0\n",
        "df.loc[10094,'Year'] = 2009.0; df.loc[10156,'Year'] = 2004.0; df.loc[10324,'Year'] = 2011.0; df.loc[10431,'Year'] = 2000.0\n",
        "df.loc[10534,'Year'] = 2009.0; df.loc[10776,'Year'] = 2007.0; df.loc[10841,'Year'] = 2012.0; df.loc[10896,'Year'] = 2004.0\n",
        "df.loc[11125,'Year'] = 1980.0; df.loc[11193,'Year'] = 2006.0; df.loc[11309,'Year'] = 1998.0; df.loc[11316,'Year'] = 1977.0\n",
        "df.loc[11386,'Year'] = 2002.0; df.loc[11584,'Year'] = 2006.0; df.loc[11658,'Year'] = 2011.0; df.loc[11711,'Year'] = 2014.0\n",
        "df.loc[11754,'Year'] = 2011.0; df.loc[11764,'Year'] = 2009.0; df.loc[11837,'Year'] = 1979.0; df.loc[12111,'Year'] = 2010.0\n",
        "df.loc[12307,'Year'] = 2012.0; df.loc[12355,'Year'] = 2010.0; df.loc[12390,'Year'] = 2004.0; df.loc[12417,'Year'] = 2008.0\n",
        "df.loc[12536,'Year'] = 2004.0; df.loc[12616,'Year'] = 1978.0; df.loc[12703,'Year'] = 2008.0; df.loc[12799,'Year'] = 2003.0\n",
        "df.loc[12858,'Year'] = 2007.0; df.loc[13162,'Year'] = 2011.0; df.loc[13187,'Year'] = 2010.0; df.loc[13190,'Year'] = 2011.0\n",
        "df.loc[13256,'Year'] = 2011.0; df.loc[13327,'Year'] = 2001.0; df.loc[13357,'Year'] = 2011.0; df.loc[13406,'Year'] = 2010.0\n",
        "df.loc[13450,'Year'] = 2007.0; df.loc[13589,'Year'] = 2008.0; df.loc[13628,'Year'] = 2004.0; df.loc[13656,'Year'] = 2010.0\n",
        "df.loc[13766,'Year'] = 2007.0; df.loc[13889,'Year'] = 2003.0; df.loc[13902,'Year'] = 1977.0; df.loc[13902,'Year'] = 1977.0\n",
        "df.loc[13923,'Year'] = 2009.0; df.loc[13954,'Year'] = 2016.0; df.loc[14012,'Year'] = 2004.0; df.loc[14049,'Year'] = 2007.0\n",
        "df.loc[14050,'Year'] = 1978.0; df.loc[14119,'Year'] = 2004.0; df.loc[14292,'Year'] = 2006.0; df.loc[14585,'Year'] = 2002.0\n",
        "df.loc[14622,'Year'] = 2008.0; df.loc[14765,'Year'] = 1977.0; df.loc[14911,'Year'] = 2008.0; df.loc[14941,'Year'] = 2010.0\n",
        "df.loc[15013,'Year'] = 2008.0; df.loc[15051,'Year'] = 2008.0; df.loc[15063,'Year'] = 2003.0; df.loc[15093,'Year'] = 2003.0\n",
        "df.loc[15216,'Year'] = 2002.0; df.loc[15411,'Year'] = 2011.0; df.loc[15669,'Year'] = 2004.0; df.loc[2408,'Year'] = 2007.0"
      ],
      "metadata": {
        "id": "cZg8AYaS5xeQ"
      },
      "execution_count": 33,
      "outputs": []
    },
    {
      "cell_type": "markdown",
      "source": [
        "1-4) Year의 항목의 EDA를 마치고 vgames2_year.csv 파일 저장"
      ],
      "metadata": {
        "id": "psezSvaJ7O-_"
      }
    },
    {
      "cell_type": "code",
      "source": [
        "# Year 항목의 EDA를 마친 후 vgames2_year 파일에 저장한다.\n",
        "df.to_csv(\"vgames2_year.csv\", index = False)"
      ],
      "metadata": {
        "id": "0yg9pCKg7Mdk"
      },
      "execution_count": 34,
      "outputs": []
    },
    {
      "cell_type": "markdown",
      "source": [
        "# 2. EDA : Genre"
      ],
      "metadata": {
        "id": "OfTywtdl7uj2"
      }
    },
    {
      "cell_type": "code",
      "source": [
        "# 파일 불러오기 (vgames2_year를 불러온다)\n",
        "df = pd.read_csv('vgames2_year.csv')"
      ],
      "metadata": {
        "id": "lSIPIFEU72sR"
      },
      "execution_count": 35,
      "outputs": []
    },
    {
      "cell_type": "code",
      "source": [
        "# Year의 value를 정수로 바꾼다.\n",
        "df.Year = df.Year.astype(int)"
      ],
      "metadata": {
        "id": "TXQv6v-18dkq"
      },
      "execution_count": 36,
      "outputs": []
    },
    {
      "cell_type": "markdown",
      "source": [
        "2-1) 게임 제목이 같으면 장르기 같으므로 채울 수 있는 결측치는 넣는다."
      ],
      "metadata": {
        "id": "S3sqDl4Y7zXj"
      }
    },
    {
      "cell_type": "code",
      "source": [
        "# Name으로 그룹한 후 위의 value로 결측치를 채운다.\n",
        "df['Genre'] = df.groupby('Name')['Genre'].fillna(method='ffill')"
      ],
      "metadata": {
        "id": "KRqwahLS9x_e"
      },
      "execution_count": 37,
      "outputs": []
    },
    {
      "cell_type": "markdown",
      "source": [
        "2-2) 동일한 제목의 Genre의 value도 결측치이거나 동일한 제목이 없는 경우를 채워넣는다.(그냥 drop 시켜도 되지만 38개라서 채워본다)"
      ],
      "metadata": {
        "id": "DqFgIjpq-UPu"
      }
    },
    {
      "cell_type": "code",
      "source": [
        "# 직접 구글링을 해서 결측치를 채운다.\n",
        "df.loc[50,'Genre'] = 'Misc'; df.loc[408,'Genre'] = 'Sports'; df.loc[1328,'Genre'] = 'Sports'; df.loc[1582,'Genre'] = 'Misc'\n",
        "df.loc[1971,'Genre'] = 'Role-Playing'; df.loc[2043,'Genre'] = 'Racing'; df.loc[2497,'Genre'] = 'Simulation'\n",
        "df.loc[3353,'Genre'] = 'Action'; df.loc[3363,'Genre'] = 'Racing'; df.loc[3470,'Genre'] = 'Action'; df.loc[3515,'Genre'] = 'Adventure'\n",
        "df.loc[4148,'Genre'] = 'Action'; df.loc[4349,'Genre'] = 'Misc'; df.loc[4545,'Genre'] = 'Fighting'; df.loc[4598,'Genre'] = 'Misc'\n",
        "df.loc[4935,'Genre'] = 'Role-Playing'; df.loc[5668,'Genre'] = 'Role-Playing'; df.loc[5945,'Genre'] = 'Role-Playing'; df.loc[6798,'Genre'] = 'Strategy'\n",
        "df.loc[7143,'Genre'] = 'Adventure'; df.loc[7526,'Genre'] = 'Action'; df.loc[7797,'Genre'] = 'Platform'; df.loc[15077,'Genre'] = 'Platform'\n",
        "df.loc[9488,'Genre'] = 'Role-Playing'; df.loc[10432,'Genre'] = 'Action'; df.loc[10501,'Genre'] = 'Adventure'; df.loc[10874,'Genre'] = 'Misc'\n",
        "df.loc[11050,'Genre'] = 'Simulation'; df.loc[1971,'Genre'] = 'Role-Playing'; df.loc[11063,'Genre'] = 'Action'; df.loc[11496,'Genre'] = 'Racing'\n",
        "df.loc[12331,'Genre'] = 'Action'; df.loc[12340,'Genre'] = 'Strategy'; df.loc[12870,'Genre'] = 'Puzzle'; df.loc[12982,'Genre'] = 'Shooter'\n",
        "df.loc[13348,'Genre'] = 'Adventure';df.loc[15426,'Genre'] = 'Puzzle'; df.loc[15526,'Genre'] = 'Action';df.loc[16091,'Genre'] = 'Puzzle'"
      ],
      "metadata": {
        "id": "1tUMbnMi9-Tb"
      },
      "execution_count": 38,
      "outputs": []
    },
    {
      "cell_type": "markdown",
      "source": [
        "2-3) Genre항목의 EDA를 마치고 vgames2_genre.csv에 저장한다."
      ],
      "metadata": {
        "id": "cZrM7zMI_BrU"
      }
    },
    {
      "cell_type": "code",
      "source": [
        "# vgames2_genre에 저장\n",
        "df.to_csv(\"vgames2_genre.csv\", index = False)"
      ],
      "metadata": {
        "id": "gGYG7wV3_KDz"
      },
      "execution_count": 39,
      "outputs": []
    },
    {
      "cell_type": "markdown",
      "source": [
        "# 3. EDA : Sales"
      ],
      "metadata": {
        "id": "169zoWQP_Xy1"
      }
    },
    {
      "cell_type": "code",
      "source": [
        "# 파일 불러오기\n",
        "df = pd.read_csv('vgames2_genre.csv')"
      ],
      "metadata": {
        "id": "tV5jVDHS_d9i"
      },
      "execution_count": 40,
      "outputs": []
    },
    {
      "cell_type": "code",
      "source": [
        "# 겹치는 항목 제거 (하나 있었음)\n",
        "df = df.drop_duplicates()"
      ],
      "metadata": {
        "id": "IZTCjnUV_mrs"
      },
      "execution_count": 41,
      "outputs": []
    },
    {
      "cell_type": "markdown",
      "source": [
        "3-1) Genre의 항목의 단위들을 정리한다.\n",
        "\n",
        "참고 사이트 : https://www.vgchartz.com/charts/platform_totals/Hardware.php/"
      ],
      "metadata": {
        "id": "oREMq6wi_btg"
      }
    },
    {
      "cell_type": "code",
      "source": [
        "# 기본 단위가 백만(m,M)이기때문에 정비해준다.\n",
        "df['NA_Sales'] = df['NA_Sales'].replace({'[kK]': '*0.001', '[mM]': '*1'}, regex=True).map(pd.eval).astype(float)\n",
        "df['EU_Sales'] = df['EU_Sales'].replace({'[kK]': '*0.001', '[mM]': '*1'}, regex=True).map(pd.eval).astype(float)\n",
        "df['JP_Sales'] = df['JP_Sales'].replace({'[kK]': '*0.001', '[mM]': '*1'}, regex=True).map(pd.eval).astype(float)\n",
        "df['Other_Sales'] = df['Other_Sales'].replace({'[kK]': '*0.001', '[mM]': '*1'}, regex=True).map(pd.eval).astype(float)"
      ],
      "metadata": {
        "id": "y-ZV0bcL_r_5"
      },
      "execution_count": 42,
      "outputs": []
    },
    {
      "cell_type": "markdown",
      "source": [
        "3-2) Genre의 EDA를 마치고 vgames2_final 저장"
      ],
      "metadata": {
        "id": "V5XiH-56Az5i"
      }
    },
    {
      "cell_type": "code",
      "source": [
        "# vgames2_final에 저장(최종)\n",
        "df.to_csv(\"vgames2_final.csv\", index = False)"
      ],
      "metadata": {
        "id": "k7BoFHDnA83A"
      },
      "execution_count": 43,
      "outputs": []
    },
    {
      "cell_type": "markdown",
      "source": [
        "# 4. 시각화 및 분석\n",
        "\n",
        "\n",
        "1.   연도별 Platform 점유율 (연도는 1980년대, 1990년대, 2000년대, 2010년대로 구분한다.)\n",
        "2.   연도별 Platform type 점유율\n",
        "3.   PC 게임 Genre별 점유율"
      ],
      "metadata": {
        "id": "zfpvdBR5BKHI"
      }
    },
    {
      "cell_type": "code",
      "source": [
        "import matplotlib.pyplot as plt\n",
        "import numpy as np\n",
        "import matplotlib.patches as mpatches"
      ],
      "metadata": {
        "id": "lS78k0x4TifS"
      },
      "execution_count": 44,
      "outputs": []
    },
    {
      "cell_type": "code",
      "source": [
        "# 파일 불러오기\n",
        "df = pd.read_csv('vgames2_final.csv')"
      ],
      "metadata": {
        "id": "vjzgH5-lN37-"
      },
      "execution_count": 45,
      "outputs": []
    },
    {
      "cell_type": "code",
      "source": [
        "# 연도는 1980년대, 1990년대, 2000년대, 2010년대로 구분한다.\n",
        "# query로 연도를 구분했다.\n",
        "df_1980 = df.query('(Year < 1990)')\n",
        "df_1990 = df.query('(Year >= 1990) and (Year < 2000)')\n",
        "df_2000 = df.query('(Year >= 2000) and (Year < 2010)')\n",
        "df_2010 = df.query('(Year >= 2010) and (Year <= 2020)')"
      ],
      "metadata": {
        "id": "kvpy1zgVNp03"
      },
      "execution_count": 46,
      "outputs": []
    },
    {
      "cell_type": "markdown",
      "source": [
        "4-1) feature 생성\n",
        "*   Platform별 pc, portable, video 총 3개 type으로 구분 후 저장한다.\n",
        "*   NA, EU, JP, Other 의 판매량의 총 합을 total에 저장한다."
      ],
      "metadata": {
        "id": "PyRhplUjNkty"
      }
    },
    {
      "cell_type": "code",
      "source": [
        "# 휴대용, 가정용, 컴퓨터 3가지로 분류했다.\n",
        "portable = ['DS','PSP','GBA','3DS','PSV','GB','WS']\n",
        "platform_list = list(df['Platform'])\n",
        "value = []\n",
        "for i in platform_list:\n",
        "  value.append('pc') if i == 'PC' else value.append('portable') if i in portable else value.append('video')\n",
        "df['type'] = value"
      ],
      "metadata": {
        "id": "xrzqaqrICKHa"
      },
      "execution_count": 57,
      "outputs": []
    },
    {
      "cell_type": "code",
      "source": [
        "# NA_Sales ~ Other_Sales까지의 전체 매출을 total에 저장한다.\n",
        "df['total'] = df.loc[:, 'NA_Sales':'Other_Sales'].sum(axis = 1)"
      ],
      "metadata": {
        "id": "Puht5NuYOp4m"
      },
      "execution_count": 58,
      "outputs": []
    },
    {
      "cell_type": "markdown",
      "source": [
        "4-2) 연도별 Platform 점유율 : 막대그래프"
      ],
      "metadata": {
        "id": "L9hzaj5tOvqG"
      }
    },
    {
      "cell_type": "code",
      "source": [
        "# query로 연도를 구분했다.\n",
        "df_1980 = df.query('(Year < 1990)')\n",
        "df_1990 = df.query('(Year >= 1990) and (Year < 2000)')\n",
        "df_2000 = df.query('(Year >= 2000) and (Year < 2010)')\n",
        "df_2010 = df.query('(Year >= 2010) and (Year <= 2020)')\n",
        "\n",
        "# df의 각 국가의 플랫폼 top3를 고른 후 나머지 플랫폼은 합해서 총 top4를 정한다.\n",
        "# value0 = 위에서 query로 나누었던 연도 ex) df_1980\n",
        "# value = 국가 ex) NA_Sales\n",
        "# 연도는 1980년대, 1990년대, 2000년대, 2010년대로 구분한다.\n",
        "def top(value0, value):\n",
        "  A = value0.groupby(['type', 'Platform']).sum().reset_index()\n",
        "  top_4 = A.nlargest(3, value)[['Platform', value]].reset_index()\n",
        "  top_4 = top_4.drop(top_4.iloc[:,[0]], axis = 1)\n",
        "  top_4.loc[len(top_4)] = ['etc', A['EU_Sales'].sort_values()[:-3].sum()]\n",
        "  top_4[value] = round((top_4[value] / top_4[value].sum()) * 100,2)\n",
        "  return top_4\n",
        "\n",
        "# top 위한 함수 divider() 안에 year로 구분되는 쿼리 문을 넣는다.\n",
        "def divider(value2):\n",
        "  na = top(value2, 'NA_Sales')\n",
        "  eu = top(value2, 'EU_Sales')\n",
        "  jp = top(value2, 'JP_Sales')\n",
        "  ot = top(value2, 'Other_Sales')\n",
        "  return na, eu, jp, ot"
      ],
      "metadata": {
        "id": "H-3zFyK-Ou4M"
      },
      "execution_count": 59,
      "outputs": []
    },
    {
      "cell_type": "code",
      "source": [
        "# 그래프를 위한 색깔 저장.\n",
        "platform = ['DS','PS2','PS3','Wii','X360','PSP','PS','PC','XB',\n",
        "            'GBA','GC','3DS','PSV','PS4','N64','SNES','XOne','SAT',\n",
        "            'WiiU','2600','GB','NES','DC','GEN','NG','SCD','WS',\n",
        "            '3DO','TG16','GG','PCFX', 'etc']\n",
        "\n",
        "colors = ['#1f77b4', '#ff7f0e', '#2ca02c', '#d62728', '#9467bd', '#8c564b', '#e377c2', '#7f7f7f', '#bcbd22',\n",
        "          '#17becf', '#aec7e8', '#ffbb78', '#98df8a', '#ff9896', '#c5b0d5', '#c49c94', '#f7b6d2', '#c7c7c7',\n",
        "          '#dbdb8d', '#9edae5', '#c7e9c0', '#fddaec', '#edf8b1', '#c6dbef', '#fdae6b', '#b2df8a', '#e7969c',\n",
        "          '#f1eef6', '#bcbddc', '#fdd0a2', '#fb8072', 'gray']\n",
        "\n",
        "# 색깔을 정해주는 함수\n",
        "# value3 = divider[0][~_Sales] 설명) divider[0]은 NA_Sales내용이 [1]에는 EU_Sales 내용이 들어 있다.\n",
        "# value4 = 변수명 설명) c_color 함수 내에서 사용될 변수 이름을 넣으면 된다.\n",
        "def c_color(value3, value4):\n",
        "  value4 = []\n",
        "  for i in value3:\n",
        "    cnt = 0\n",
        "    for j in platform:\n",
        "      if i != j:\n",
        "        cnt += 1\n",
        "      else:\n",
        "        value4.append(colors[cnt])\n",
        "  value4.reverse()\n",
        "  return value4"
      ],
      "metadata": {
        "id": "8a1AdL1SPUpE"
      },
      "execution_count": 60,
      "outputs": []
    },
    {
      "cell_type": "code",
      "source": [
        "# 라벨을 그려주는 함수\n",
        "# value8 = divider[0]['Platform'] 설명) divider[0]에는 NA_Sales의 내용이 들어있고 Platform에는 platfrom 이름이 들어있다.(wii 같은)\n",
        "def g_label(value8):\n",
        "  b = list(value8)\n",
        "  b.reverse()\n",
        "  return b\n",
        "  \n",
        "# 그래프 y값\n",
        "# value5 = divider(원하는 연도)['원하는 국가'] ex) divider(df_1980)['NA_Sales']\n",
        "def y_list(value5):\n",
        "  a = list(value5)\n",
        "  return [100, 100-a[3], 100-(a[3] + a[2]), 100-(a[3] + a[2] + a[1])]"
      ],
      "metadata": {
        "id": "iPQ9kT2kPcjb"
      },
      "execution_count": 61,
      "outputs": []
    },
    {
      "cell_type": "code",
      "source": [
        "# 위에서 만들었던 함수들 사용해서 그래프 그리기\n",
        "# value6 = divider(연도) ex) divider(df_1980)\n",
        "# value8 = 그래프 제목 ex) 1980's platform\n",
        "def draw_graph(value6, value7):\n",
        "  \n",
        "  fig, ax = plt.subplots()\n",
        "  # 그래프 색깔이랑 라벨.\n",
        "  na_c = c_color(value6[0]['Platform'], 'na_c'); na_l = g_label(value6[0]['Platform'])\n",
        "  eu_c = c_color(value6[1]['Platform'], 'eu_c'); eu_l = g_label(value6[1]['Platform'])\n",
        "  jp_c = c_color(value6[2]['Platform'], 'jp_c'); jp_l = g_label(value6[2]['Platform'])\n",
        "  ot_c = c_color(value6[3]['Platform'], 'ot_c'); ot_l = g_label(value6[3]['Platform'])\n",
        "  \n",
        "  # 그래프 그리기.\n",
        "  ax.bar('NA', y_list(value6[0]['NA_Sales']), color = na_c, label = na_l)\n",
        "  ax.bar('EU', y_list(value6[1]['EU_Sales']), color = eu_c, label = eu_l)\n",
        "  ax.bar('JP', y_list(value6[2]['JP_Sales']), color = jp_c, label = jp_l)\n",
        "  ax.bar('Other', y_list(value6[3]['Other_Sales']), color = ot_c, label = ot_l)\n",
        "\n",
        "  colors = []\n",
        "  for c in na_c + eu_c + jp_c + ot_c:\n",
        "    if c not in colors:\n",
        "      colors.append(c)\n",
        "  \n",
        "  labels = []\n",
        "  for l in na_l + eu_l + jp_l + ot_l:\n",
        "    if l not in labels:\n",
        "      labels.append(l)\n",
        "\n",
        "  handles = []\n",
        "  for i in range(len(colors)):\n",
        "      handles.append(mpatches.Patch(color=colors[i], label=labels[i]))\n",
        "\n",
        "  ax.set_title(value7)\n",
        "  ax.legend(handles=handles, loc='center left', bbox_to_anchor=(1, 0.5));"
      ],
      "metadata": {
        "id": "6C_XDsGpRgdX"
      },
      "execution_count": 62,
      "outputs": []
    },
    {
      "cell_type": "code",
      "source": [
        "# 최종 명령\n",
        "draw_graph(divider(df_1980), \"1980's Platform\")"
      ],
      "metadata": {
        "colab": {
          "base_uri": "https://localhost:8080/",
          "height": 281
        },
        "id": "01OAwbmORynY",
        "outputId": "cb250c03-7e96-42ba-b412-e561b1701ceb"
      },
      "execution_count": 63,
      "outputs": [
        {
          "output_type": "display_data",
          "data": {
            "text/plain": [
              "<Figure size 432x288 with 1 Axes>"
            ],
            "image/png": "[encoded data removed]"
          },
          "metadata": {
            "needs_background": "light"
          }
        }
      ]
    },
    {
      "cell_type": "markdown",
      "source": [
        "4-3) 연도별 Platform type 점유율"
      ],
      "metadata": {
        "id": "lOJ1gwkER4Bx"
      }
    },
    {
      "cell_type": "code",
      "source": [
        "# value_per(df_1980, 'NA_Sales')\n",
        "def value_per(value9, value10):\n",
        "  return list((list(value9.groupby('type')[value10].sum()) / value9.groupby('type')[value10].sum().sum()) * 100)\n",
        "\n",
        "# 그래프 y값\n",
        "# value8 : value_y(value_per(연도, 국가) ex) value_y(value_per(df_1980, 'NA_Sales'))\n",
        "def value_y(value8):\n",
        "  b = list(value8)\n",
        "  return [100, 100-b[2], 100-(b[2] + b[1])]\n",
        "\n",
        "# 그래프 라벨\n",
        "# value_label(연도, '국가') ex) value_label(df_1980, 'Na_Sales')\n",
        "def value_label(value11, value12):\n",
        "  c = list(value11.groupby('type')[value12].sum().keys()) + ['etc']\n",
        "  return c[::-1]"
      ],
      "metadata": {
        "id": "QTgYRGrjR3PC"
      },
      "execution_count": 64,
      "outputs": []
    },
    {
      "cell_type": "code",
      "source": [
        "# 연도별 type 점유율 그래프.\n",
        "# type_graph(연도, '제목') ex) type_graph(df_1980, '1980\"s type')\n",
        "def type_graph(value13, value14):\n",
        "\n",
        "  fig, ax = plt.subplots()\n",
        "  color = ['cadetblue','burlywood','plum']\n",
        "  ax.bar('NA', value_y(value_per(value13, 'NA_Sales')), label = value_label(value13, 'NA_Sales'), color = color, width = 0.7)\n",
        "  ax.bar('EU', value_y(value_per(value13, 'EU_Sales')), label = value_label(value13, 'EU_Sales'), color = color,width = 0.7)\n",
        "  ax.bar('JP', value_y(value_per(value13, 'JP_Sales')), label = value_label(value13, 'JP_Sales'), color = color,width = 0.7)\n",
        "  ax.bar('Other', value_y(value_per(value13, 'Other_Sales')), label = value_label(value13, 'Other_Sales'), color = color,width = 0.7)\n",
        "  handles = []\n",
        "  labels = ['video','portable','pc']\n",
        "  for i in range(len(color)):\n",
        "        handles.append(mpatches.Patch(color=color[i], label=labels[i]))\n",
        "  ax.set_title(value14)\n",
        "  ax.legend(handles=handles, loc='center left', bbox_to_anchor=(0.5, -0.2));"
      ],
      "metadata": {
        "id": "g7N4IQtOSsW3"
      },
      "execution_count": 65,
      "outputs": []
    },
    {
      "cell_type": "code",
      "source": [
        "# 최종 명령.\n",
        "type_graph(df_2010, \"2010's type\")"
      ],
      "metadata": {
        "colab": {
          "base_uri": "https://localhost:8080/",
          "height": 332
        },
        "id": "2J2oKeCnS0V3",
        "outputId": "a97b3c0e-136b-4e1b-c630-412af4bd6ed7"
      },
      "execution_count": 66,
      "outputs": [
        {
          "output_type": "display_data",
          "data": {
            "text/plain": [
              "<Figure size 432x288 with 1 Axes>"
            ],
            "image/png": "[encoded data removed]"
          },
          "metadata": {
            "needs_background": "light"
          }
        }
      ]
    },
    {
      "cell_type": "markdown",
      "source": [
        "4-4) PC 게임 Genre별 점유율"
      ],
      "metadata": {
        "id": "5Z3j8sRMS6xC"
      }
    },
    {
      "cell_type": "code",
      "source": [
        "# pc게임만 할것이기 때문에 따로 저장.\n",
        "df_pc = df[df.type == 'pc']"
      ],
      "metadata": {
        "id": "QJUTrq9xS7_h"
      },
      "execution_count": 67,
      "outputs": []
    },
    {
      "cell_type": "code",
      "source": [
        "# 파이 그래프 그리기.\n",
        "fig1, ax1 = plt.subplots()\n",
        "color = ['green','gold','purple','red','gray']\n",
        "ax1.pie(list(df_pc.groupby('Genre')['total'].sum().sort_values())[-4:] \n",
        "        + [sum(list(df_pc.groupby('Genre')['total'].sum().sort_values())[:-4])]\n",
        "        ,labels = list(df_pc.groupby('Genre')['total'].sum().sort_values().keys()[-4:]) + ['etc']\n",
        "        ,colors = color,autopct='%.1f%%')\n",
        "ax1.set_title('<PC Game Genre Top 4>');"
      ],
      "metadata": {
        "colab": {
          "base_uri": "https://localhost:8080/",
          "height": 264
        },
        "id": "ZUFihHcBTAAp",
        "outputId": "5964349c-c962-49cd-dea4-40ff1a8bc6bb"
      },
      "execution_count": 68,
      "outputs": [
        {
          "output_type": "display_data",
          "data": {
            "text/plain": [
              "<Figure size 432x288 with 1 Axes>"
            ],
            "image/png": "[encoded data removed]"
          },
          "metadata": {}
        }
      ]
    }
  ]
}